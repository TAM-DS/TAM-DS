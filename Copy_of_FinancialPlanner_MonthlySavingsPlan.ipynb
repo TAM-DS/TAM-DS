{
  "nbformat": 4,
  "nbformat_minor": 0,
  "metadata": {
    "colab": {
      "provenance": [],
      "authorship_tag": "ABX9TyMSj3lzNwYnyJLJYiygVX8+",
      "include_colab_link": true
    },
    "kernelspec": {
      "name": "python3",
      "display_name": "Python 3"
    },
    "language_info": {
      "name": "python"
    }
  },
  "cells": [
    {
      "cell_type": "markdown",
      "metadata": {
        "id": "view-in-github",
        "colab_type": "text"
      },
      "source": [
        "<a href=\"https://colab.research.google.com/github/TAM-DS/TAM-DS/blob/main/Copy_of_FinancialPlanner%7CMonthlySavingsPlan.ipynb\" target=\"_parent\"><img src=\"https://colab.research.google.com/assets/colab-badge.svg\" alt=\"Open In Colab\"/></a>"
      ]
    },
    {
      "cell_type": "markdown",
      "source": [],
      "metadata": {
        "id": "t3hBkcw_paJY"
      }
    },
    {
      "cell_type": "markdown",
      "source": [
        "#Future Value Of An Ordinary Annuity Formula Taking Into Account The Power Of Compound Interest."
      ],
      "metadata": {
        "id": "eA1pcVAPpeH-"
      }
    },
    {
      "cell_type": "code",
      "execution_count": null,
      "metadata": {
        "id": "P2CL9l1PpF1V"
      },
      "outputs": [],
      "source": [
        "#By calculating the ideal monthly savings amount using the future value of an ordinary annuity formula, we can provide\n",
        "#the user with a practical and accurate estimate of how much they need to save each month to achieve their retirement\n",
        "#goals, taking into account the power of compound interest.\n",
        "\n",
        "#The NPV formula is: NPV = ∑(CF_t / (1 + r)^t) - I\n",
        "#where:\n",
        "#NPV: Net Present Value\n",
        "#CF_t: Cash flow at time period t\n",
        "#r: Discount rate (or required rate of return)\n",
        "#t: Time period\n",
        "#I: Initial investment cost\n",
        "\n",
        "#The NPV formula consists of two main components:\n",
        "\n",
        "#The sum of the present values of all expected cash flows: This component calculates the present value of each\n",
        "#cash flow by dividing it by the factor (1 + r)^t, where r is the discount rate and t is the time period. The discount\n",
        "#rate represents the time value of money, which takes into account the concept that a dollar today is worth more\n",
        "#than a dollar in the future. By discounting each cash flow to its present value, we can compare the value of cash\n",
        "#flows at different points in time on a consistent basis.\n",
        "\n",
        "#The initial investment cost: This component represents the cost of the investment or project at the beginning. It\n",
        "#is subtracted from the sum of the present values of all expected cash flows to determine the net value of the\n",
        "#investment.\n",
        "\n",
        "#Detailed breakdown of the formula used to calculate the ideal monthly savings amount:\n",
        "#monthly_savings = (desired_savings * monthly_interest_rate) / ((1 + monthly_interest_rate) ** months_until_retirement - 1)\n",
        "\n",
        "#Formula:\n",
        "#The sum of the present values of all expected cash flows: This component calculates the present value of each\n",
        "#cash flow by dividing it by the factor (1 + r)^t, where r is the discount rate and t is the time period. The discount\n",
        "#rate represents the time value of money, which takes into account the concept that a dollar today is worth more\n",
        "#than a dollar in the future. By discounting each cash flow to its present value, we can compare the value of cash\n",
        "#flows at different points in time on a consistent basis.\n",
        "\n",
        "#The initial investment cost: This component represents the cost of the investment or project at the beginning. It\n",
        "#is subtracted from the sum of the present values of all expected cash flows to determine the net value of the\n",
        "#investment.\n",
        "\n",
        "#Desired_savings: This is the future value of the annuity, which represents the desired savings amount at retirement as provided by the user.\n",
        "#Monthly_interest_rate: This is the interest rate per month calculated from the annual interest rate. It is calculated using the formula:\n",
        "#(1 + annual_interest_rate / 100) ^ (1 / 12) - 1. This formula converts the annual interest rate to its equivalent monthly interest rate.\n",
        "#Months_until_retirement: This is the total number of months left until retirement, calculated by multiplying the number of years left until retirement by 12.\n",
        "#(1 + monthly_interest_rate) ** months_until_retirement: This part of the formula calculates the compound\n",
        "#interest factor. It represents the total growth of the investment over the entire savings period.\n",
        "#((1 + monthly_interest_rate) ** months_until_retirement - 1): By subtracting 1 from the compound interest factor, we isolate the total interest earned over the entire savings period.\n",
        "#(desired_savings * monthly_interest_rate): This part of the formula calculates the product of the desired\n",
        "#savings at retirement and the monthly interest rate. This represents the total interest earned over the entire\n",
        "#savings period, adjusted by the desired savings amount.\n",
        "#(desired_savings * monthly_interest_rate) / ((1 + monthly_interest_rate) ** months_until_retirement - 1):\n",
        "#Finally, we divide the adjusted total interest earned by the isolated total interest earned over the entire savings"
      ]
    },
    {
      "cell_type": "code",
      "source": [
        "#Step One -Prompt users for their current age:\n",
        "\n",
        "Current_age = int(input(\"What is your current age:   \"))\n",
        "\n",
        "\n",
        "#Step two -Promt users for their target retirement age:\n",
        "\n",
        "retirement_age = int(input(\"What is your desired retirement age:   \"))\n",
        "\n",
        "\n",
        "#Step Three -Promt users for the desired savings amount at retirement:\n",
        "\n",
        "desired_retirement_savings = float(input(\"What is the amount in dollars for retirement: \"))\n",
        "\n",
        "\n",
        "\n",
        "#Step Four -Promt users for their annual intrest rate on their savings:\n",
        "\n",
        "annual_interest_rate = float(input(\"What is your annual interest rate(e.g., 5 for 5%):   \"))\n",
        "\n",
        "\n",
        "#Step Five -Calculate the number of years left until retirement:\n",
        "\n",
        "years_until_retirement = retirement_age - Current_age\n",
        "print(f\"You have {years_until_retirement} years left to work\")\n",
        "\n",
        "\n",
        "#Step Six -Calculate the total number of months left until retirement:\n",
        "\n",
        "months_until_retirement = years_until_retirement * 12\n",
        "\n",
        "\n",
        "\n",
        "#Step Seven Using Net Present value (NPV) -Determin the ideal monthly savings amount based on the desired savings, the number of motnhs left until retirement and the interest rate:\n",
        "\n",
        "monthly_interest_rate = (1 + annual_interest_rate / 100) ** (1/12) -1\n",
        "\n",
        "\n",
        "#Step Eight -calculate the monthly savings required to reach desired retirment savings:\n",
        "\n",
        "monthly_savings = (desired_retirement_savings * monthly_interest_rate\n",
        "                   ) / ((1 + monthly_interest_rate) ** months_until_retirement -1)\n",
        "\n",
        "#Step Nine -Display the savings amount needed monthly to reach retirement goal.\n",
        "print(f\"Needed monthly dollar amount: ${monthly_savings: .2f}\")\n"
      ],
      "metadata": {
        "colab": {
          "base_uri": "https://localhost:8080/"
        },
        "id": "4Pu4uHVzqDOX",
        "outputId": "53e6374b-a9b6-4907-d1e1-3b5e55f32fd2"
      },
      "execution_count": 1,
      "outputs": [
        {
          "output_type": "stream",
          "name": "stdout",
          "text": [
            "What is your current age:   56\n",
            "What is your desired retirement age:   85\n",
            "What is the amount in dollars for retirement: 5000000\n",
            "What is your annual interest rate(e.g., 5 for 5%):   9\n",
            "You have 29 years left to work\n",
            "Needed monthly dollar amount: $ 3225.57\n"
          ]
        }
      ]
    }
  ]
}